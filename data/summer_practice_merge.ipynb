{
  "cells": [
    {
      "cell_type": "code",
      "execution_count": null,
      "metadata": {
        "colab": {
          "base_uri": "https://localhost:8080/"
        },
        "id": "pTHoXs-Xlnok",
        "outputId": "f6c6eb2d-1ced-46d5-89a0-4ca3205cdb81"
      },
      "outputs": [
        {
          "name": "stdout",
          "output_type": "stream",
          "text": [
            "Исходная таблица: 566 строк\n",
            "После удаления дубликатов в брендах: 200 строк\n",
            "После объединения: 566 строк\n"
          ]
        }
      ],
      "source": [
        "import pandas as pd\n",
        "\n",
        "products = pd.read_csv('/content/big_no_R.csv')\n",
        "brands = pd.read_csv('/content/brand_rating.csv')\n",
        "\n",
        "brands = brands.rename(columns={\n",
        "    'id': 'brand_id',\n",
        "    'rating': 'brand_rating',\n",
        "    'reviews': 'brand_reviews',\n",
        "    'name': 'brand_name'\n",
        "})\n",
        "\n",
        "\n",
        "brands_unique = brands.drop_duplicates(subset=['brand_id'], keep='first')\n",
        "\n",
        "merged = products.merge(\n",
        "    brands_unique,\n",
        "    how='left',\n",
        "    left_on='brand_id',\n",
        "    right_on='brand_id'\n",
        ")\n",
        "\n",
        "merged = merged.drop(columns=['brand_name_y'])\n",
        "\n",
        "print(f\"Исходная таблица: {products.shape[0]} строк\")\n",
        "print(f\"После удаления дубликатов в брендах: {brands_unique.shape[0]} строк\")\n",
        "print(f\"После объединения: {merged.shape[0]} строк\")\n",
        "merged.to_csv('big_with_brand_info.csv', index=False)\n"
      ]
    },
    {
      "cell_type": "code",
      "execution_count": 20,
      "metadata": {
        "colab": {
          "base_uri": "https://localhost:8080/"
        },
        "id": "1fPy-tZmszz3",
        "outputId": "92128366-8edc-4510-eaca-1e0c1b4a13a5"
      },
      "outputs": [
        {
          "name": "stdout",
          "output_type": "stream",
          "text": [
            "Исходная таблица: 566 строк\n",
            "После удаления дубликатов в брендах: 566 строк\n",
            "После объединения: 566 строк\n"
          ]
        }
      ],
      "source": [
        "only_rating = pd.read_csv('/content/only_rating.csv')\n",
        "merged_rating = merged.merge(\n",
        "    only_rating,\n",
        "    how='left',\n",
        "    left_on='Артикул',\n",
        "    right_on='id'\n",
        ")\n",
        "\n",
        "print(f\"Исходная таблица: {merged_rating.shape[0]} строк\")\n",
        "print(f\"После удаления дубликатов в брендах: {only_rating.shape[0]} строк\")\n",
        "print(f\"После объединения: {merged_rating.shape[0]} строк\")\n",
        "merged_rating.to_csv('merged_with_rating.csv', index=False)\n"
      ]
    },
    {
      "cell_type": "code",
      "execution_count": null,
      "metadata": {
        "colab": {
          "base_uri": "https://localhost:8080/"
        },
        "id": "fAP5CoeLug8S",
        "outputId": "661c2345-ab9b-4bc1-b345-d7f5686e43a2"
      },
      "outputs": [
        {
          "name": "stdout",
          "output_type": "stream",
          "text": [
            "Исходная таблица: 566 строк\n",
            "После удаления дубликатов в брендах: 276 строк\n",
            "После объединения: 566 строк\n"
          ]
        }
      ],
      "source": [
        "seller_rating = pd.read_csv('/content/seller_rating.csv')\n",
        "seller_rating = seller_rating.rename(columns={\n",
        "    'id': 'seller_id',\n",
        "    'rating': 'seller_rating',\n",
        "    'reviews': 'seller_reviews',\n",
        "    'name': 'seller_name'\n",
        "})\n",
        "\n",
        "\n",
        "seller_unique = seller_rating.drop_duplicates(subset=['seller_id'], keep='first')\n",
        "\n",
        "final_merged = merged_rating.merge(\n",
        "    seller_unique,\n",
        "    how='left',\n",
        "    left_on='seller_id',\n",
        "    right_on='seller_id'\n",
        ")\n",
        "\n",
        "print(f\"Исходная таблица: {merged_rating.shape[0]} строк\")\n",
        "print(f\"После удаления дубликатов в брендах: {seller_unique.shape[0]} строк\")\n",
        "print(f\"После объединения: {final_merged.shape[0]} строк\")\n",
        "final_merged.to_csv('final_merged.csv', index=False)"
      ]
    },
    {
      "cell_type": "code",
      "execution_count": null,
      "metadata": {
        "id": "sBJIoSo9rv6m"
      },
      "outputs": [],
      "source": []
    }
  ],
  "metadata": {
    "colab": {
      "provenance": []
    },
    "kernelspec": {
      "display_name": "Python 3",
      "name": "python3"
    },
    "language_info": {
      "name": "python"
    }
  },
  "nbformat": 4,
  "nbformat_minor": 0
}
