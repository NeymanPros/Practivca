{
  "cells": [
    {
      "cell_type": "code",
      "execution_count": null,
      "metadata": {
        "id": "cF0v_5B9WV5e"
      },
      "outputs": [],
      "source": [
        "import os\n",
        "import requests\n",
        "import time\n",
        "from datetime import datetime, timedelta\n",
        "import pandas as pd\n",
        "import csv\n",
        "from datetime import datetime, timedelta\n",
        "\n",
        "\n",
        "\n",
        "\n",
        "if not all([AUTH_TOKEN, COMPANY_ID, USER_ID]):\n",
        "    raise ValueError(\"Необходимо задать все переменные окружения в .env файле (AUTH_TOKEN, COMPANY_ID, USER_ID)\")\n",
        "\n",
        "HEADERS = {\n",
        "    'Authorization': AUTH_TOKEN,\n",
        "    'Accept': 'application/json, text/plain, */*',\n",
        "    'Accept-Language': 'ru-RU,ru;q=0.9,en-US;q=0.8,en;q=0.7',\n",
        "    'CompanyID': COMPANY_ID,\n",
        "    'UserID': USER_ID,\n",
        "    'Referer': 'https://wildbox.ru/dashboard/search-tops-analysis/formed',\n",
        "    'Sec-Fetch-Dest': 'empty', 'Sec-Fetch-Mode': 'cors', 'Sec-Fetch-Site': 'same-origin',\n",
        "    'Time-Zone': 'Europe/Moscow',\n",
        "    'User-Agent': 'Mozilla/5.0 (Macintosh; Intel Mac OS X 10_15_7) AppleWebKit/537.36 (KHTML, like Gecko) Chrome/137.0.0.0 Safari/537.36'\n",
        "}\n",
        "\n",
        "\n",
        "DATE_TO = datetime.now().strftime('%Y-%m-%d')\n",
        "DATE_FROM = (datetime.now() - timedelta(days=30)).strftime('%Y-%m-%d')\n",
        "\n",
        "\n",
        "\n",
        "\n",
        "def get_product_details(product_id: int) -> dict:\n",
        "    \"\"\"Получает детальную информацию по одному товару.\"\"\"\n",
        "    url = \"https://wildbox.ru/api/wb_dynamic/products/\"\n",
        "    extra_fields = ('orders,proceeds,in_stock_percent,lost_proceeds,orders_dynamic,proceeds_dynamic,quantity,price,discount,weighted_price,rating,seller,brand,subject,images,promos,sales_speed,old_price')\n",
        "    params = {'product_ids': product_id, 'date_from': DATE_FROM, 'date_to': DATE_TO, 'extra_fields': extra_fields}\n",
        "    try:\n",
        "        response = requests.get(url, headers=HEADERS, params=params, timeout=30)\n",
        "        response.raise_for_status()\n",
        "        results = response.json().get('results', [])\n",
        "        return results[0] if results else {}\n",
        "    except requests.exceptions.RequestException: return {}\n",
        "\n",
        "\n",
        "\n",
        "INPUT_CSV = '/content/articls.csv'     \n",
        "OUTPUT_CSV = 'product_data_output.csv'  \n",
        "ID_COLUMN_NAME = 'Артикул'         \n",
        "\n",
        "df_ids = pd.read_csv(INPUT_CSV)\n",
        "product_ids = df_ids[ID_COLUMN_NAME]\n",
        "results = []\n",
        "\n",
        "i = 0\n",
        "\n",
        "for pid in product_ids:\n",
        "    i += 1\n",
        "    try:\n",
        "        product_data = get_product_details(int(pid))\n",
        "        if product_data:\n",
        "            results.append(product_data)\n",
        "        else:\n",
        "            print(f'Нет данных для ID: {pid}')\n",
        "    except Exception as e:\n",
        "        print(f'Ошибка при обработке ID {pid}: {e}')\n",
        "    if i > 2:\n",
        "      break\n",
        "\n",
        "all_products = []\n",
        "for product_list in results:\n",
        "    all_products.extend(product_list)\n",
        "\n",
        "fields = [\n",
        "    \"id\", \"orders\", \"proceeds\", \"quantity\", \"price\",\n",
        "    \"old_price\", \"discount\", \"weighted_price\",\n",
        "    \"name\", \"rating\", \"count_day_promos\",\n",
        "    \"sales_speed\", \"seller_id\", \"seller_name\", \"brand_id\", \"brand_name\",\n",
        "    \"count_images\", \"subject\"\n",
        "]\n",
        "\n",
        "rows = []\n",
        "for p in results:\n",
        "    total_days = 0\n",
        "    for promo in p.get('promos', []):\n",
        "      start = datetime.strptime(promo['start_date'], '%Y-%m-%d')\n",
        "      end = datetime.strptime(promo['end_date'], '%Y-%m-%d')\n",
        "      duration = (end - start).days + 1  \n",
        "      total_days += duration\n",
        "\n",
        "    row = {\n",
        "        \"id\": p.get(\"id\"),\n",
        "        \"orders\": p.get(\"orders\"),\n",
        "        \"proceeds\": p.get(\"proceeds\"),\n",
        "        \"quantity\": p.get(\"quantity\"),\n",
        "        \"price\": p.get(\"price\"),\n",
        "        \"old_price\": p.get(\"old_price\"),\n",
        "        \"discount\": p.get(\"discount\"),\n",
        "        \"weighted_price\": p.get(\"weighted_price\"),\n",
        "        \"name\": p.get(\"name\"),\n",
        "        \"rating\": p.get(\"rating\"),\n",
        "        \"count_day_promos\": total_days,\n",
        "        \"seller_id\": p.get(\"seller\", {}).get(\"id\") if isinstance(p.get(\"seller\"), dict) else None,\n",
        "        \"seller_name\": p.get(\"seller\", {}).get(\"name\") if isinstance(p.get(\"seller\"), dict) else None,\n",
        "        \"brand_id\": p.get(\"brand\", {}).get(\"id\") if isinstance(p.get(\"brand\"), dict) else None,\n",
        "        \"brand_name\": p.get(\"brand\", {}).get(\"name\") if isinstance(p.get(\"brand\"), dict) else None,\n",
        "        \"count_images\": len(p.get(\"images\")),\n",
        "        \"subject\": p.get(\"subject\")\n",
        "    }\n",
        "    rows.append(row)\n",
        "\n",
        "csv_filename = \"products_info_large.csv\"\n",
        "with open(csv_filename, \"w\", newline=\"\", encoding=\"utf-8\") as f:\n",
        "    writer = csv.DictWriter(f, fieldnames=fields)\n",
        "    writer.writeheader()\n",
        "    writer.writerows(rows)"
      ]
    },
    {
      "cell_type": "code",
      "execution_count": null,
      "metadata": {
        "colab": {
          "base_uri": "https://localhost:8080/"
        },
        "id": "KfE4frtw3gD_",
        "outputId": "2ba65279-4bcb-474e-e5ba-1b794c4cdff6"
      },
      "outputs": [
        {
          "data": {
            "text/plain": [
              "25470"
            ]
          },
          "execution_count": 15,
          "metadata": {},
          "output_type": "execute_result"
        }
      ],
      "source": [
        "df1 = pd.read_csv(\"/content/final_dataset.csv\")\n",
        "df2 = pd.read_csv(\"/content/products_info.csv\")\n",
        "\n",
        "merged_df = df1.merge(df2, left_on=\"Артикул\", right_on=\"id\", how=\"inner\")\n",
        "merged_df.to_csv(\"merged_dataset.csv\", index=False, encoding='utf-8-sig')"
      ]
    },
    {
      "cell_type": "code",
      "execution_count": null,
      "metadata": {
        "id": "qquAc2YQjksd"
      },
      "outputs": [],
      "source": [
        "seller_df = pd.read_csv(\"/mnt/data/seller_rating.csv\")\n",
        "seller_df = seller_df.rename(columns={\n",
        "    'name': 'Поставщик',\n",
        "    'rating': 'seller_rating',\n",
        "    'reviews': 'seller_reviews'\n",
        "})\n",
        "\n",
        "united_df = pd.read_csv(\"/mnt/data/united_R.csv\")\n",
        "\n",
        "merged_df = united_df.merge(\n",
        "    seller_df[['Поставщик', 'seller_rating', 'seller_reviews']],\n",
        "    on='Поставщик',\n",
        "    how='left'\n",
        ")\n",
        "\n",
        "merged_df"
      ]
    }
  ],
  "metadata": {
    "colab": {
      "provenance": []
    },
    "kernelspec": {
      "display_name": "Python 3",
      "name": "python3"
    },
    "language_info": {
      "name": "python"
    }
  },
  "nbformat": 4,
  "nbformat_minor": 0
}
